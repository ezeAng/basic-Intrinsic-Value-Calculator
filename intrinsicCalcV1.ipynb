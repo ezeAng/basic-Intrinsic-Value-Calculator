{
 "cells": [
  {
   "cell_type": "code",
   "execution_count": 2,
   "id": "32ebb710",
   "metadata": {},
   "outputs": [],
   "source": [
    "import yfinance as yf\n",
    "import pandas as pd\n",
    "import numpy as np\n",
    "import matplotlib as plt\n",
    "from datetime import datetime"
   ]
  },
  {
   "cell_type": "code",
   "execution_count": 94,
   "id": "e69d638f",
   "metadata": {},
   "outputs": [
    {
     "data": {
      "text/plain": [
       "{'zip': '98052-6399',\n",
       " 'sector': 'Technology',\n",
       " 'fullTimeEmployees': 221000,\n",
       " 'longBusinessSummary': 'Microsoft Corporation develops, licenses, and supports software, services, devices, and solutions worldwide. The company operates in three segments: Productivity and Business Processes, Intelligent Cloud, and More Personal Computing. The Productivity and Business Processes segment offers Office, Exchange, SharePoint, Microsoft Teams, Office 365 Security and Compliance, Microsoft Viva, and Skype for Business; Skype, Outlook.com, OneDrive, and LinkedIn; and Dynamics 365, a set of cloud-based and on-premises business solutions for organizations and enterprise divisions. The Intelligent Cloud segment licenses SQL, Windows Servers, Visual Studio, System Center, and related Client Access Licenses; GitHub that provides a collaboration platform and code hosting service for developers; Nuance provides healthcare and enterprise AI solutions; and Azure, a cloud platform. It also offers enterprise support, Microsoft consulting, and nuance professional services to assist customers in developing, deploying, and managing Microsoft server and desktop solutions; and training and certification on Microsoft products. The More Personal Computing segment provides Windows original equipment manufacturer (OEM) licensing and other non-volume licensing of the Windows operating system; Windows Commercial, such as volume licensing of the Windows operating system, Windows cloud services, and other Windows commercial offerings; patent licensing; and Windows Internet of Things. It also offers Surface, PC accessories, PCs, tablets, gaming and entertainment consoles, and other devices; Gaming, including Xbox hardware, and Xbox content and services; video games and third-party video game royalties; and Search, including Bing and Microsoft advertising. The company sells its products through OEMs, distributors, and resellers; and directly through digital marketplaces, online stores, and retail stores. Microsoft Corporation was founded in 1975 and is headquartered in Redmond, Washington.',\n",
       " 'city': 'Redmond',\n",
       " 'phone': '425 882 8080',\n",
       " 'state': 'WA',\n",
       " 'country': 'United States',\n",
       " 'companyOfficers': [],\n",
       " 'website': 'https://www.microsoft.com',\n",
       " 'maxAge': 1,\n",
       " 'address1': 'One Microsoft Way',\n",
       " 'fax': '425 706 7329',\n",
       " 'industry': 'Software—Infrastructure',\n",
       " 'ebitdaMargins': 0.48672,\n",
       " 'profitMargins': 0.34366,\n",
       " 'grossMargins': 0.6826,\n",
       " 'operatingCashflow': 87693000704,\n",
       " 'revenueGrowth': 0.106,\n",
       " 'operatingMargins': 0.41691002,\n",
       " 'ebitda': 98841001984,\n",
       " 'targetLowPrice': 234,\n",
       " 'recommendationKey': 'buy',\n",
       " 'grossProfits': 135620000000,\n",
       " 'freeCashflow': 46155874304,\n",
       " 'targetMedianPrice': 292.51,\n",
       " 'currentPrice': 221.39,\n",
       " 'earningsGrowth': -0.133,\n",
       " 'currentRatio': 1.84,\n",
       " 'returnOnAssets': 0.15223,\n",
       " 'numberOfAnalystOpinions': 46,\n",
       " 'targetMeanPrice': 302.3,\n",
       " 'debtToEquity': 44.442,\n",
       " 'returnOnEquity': 0.42875,\n",
       " 'targetHighPrice': 411,\n",
       " 'totalCash': 107244003328,\n",
       " 'totalDebt': 77136003072,\n",
       " 'totalRevenue': 203074994176,\n",
       " 'totalCashPerShare': 14.387,\n",
       " 'financialCurrency': 'USD',\n",
       " 'revenuePerShare': 27.142,\n",
       " 'quickRatio': 1.585,\n",
       " 'recommendationMean': 1.8,\n",
       " 'exchange': 'NMS',\n",
       " 'shortName': 'Microsoft Corporation',\n",
       " 'longName': 'Microsoft Corporation',\n",
       " 'exchangeTimezoneName': 'America/New_York',\n",
       " 'exchangeTimezoneShortName': 'EDT',\n",
       " 'isEsgPopulated': False,\n",
       " 'gmtOffSetMilliseconds': '-14400000',\n",
       " 'quoteType': 'EQUITY',\n",
       " 'symbol': 'MSFT',\n",
       " 'messageBoardId': 'finmb_21835',\n",
       " 'market': 'us_market',\n",
       " 'annualHoldingsTurnover': None,\n",
       " 'enterpriseToRevenue': 7.979,\n",
       " 'beta3Year': None,\n",
       " 'enterpriseToEbitda': 16.392,\n",
       " '52WeekChange': -0.3430369,\n",
       " 'morningStarRiskRating': None,\n",
       " 'forwardEps': 11.12,\n",
       " 'revenueQuarterlyGrowth': None,\n",
       " 'sharesOutstanding': 7454470144,\n",
       " 'fundInceptionDate': None,\n",
       " 'annualReportExpenseRatio': None,\n",
       " 'totalAssets': None,\n",
       " 'bookValue': 23.276,\n",
       " 'sharesShort': 38213792,\n",
       " 'sharesPercentSharesOut': 0.0050999997,\n",
       " 'fundFamily': None,\n",
       " 'lastFiscalYearEnd': 1656547200,\n",
       " 'heldPercentInstitutions': 0.71845,\n",
       " 'netIncomeToCommon': 69788999680,\n",
       " 'trailingEps': 9.6,\n",
       " 'lastDividendValue': 0.62,\n",
       " 'SandP52WeekChange': -0.19804537,\n",
       " 'priceToBook': 9.511515,\n",
       " 'heldPercentInsiders': 0.00071000005,\n",
       " 'nextFiscalYearEnd': 1719705600,\n",
       " 'yield': None,\n",
       " 'mostRecentQuarter': 1664496000,\n",
       " 'shortRatio': 1.28,\n",
       " 'sharesShortPreviousMonthDate': 1663200000,\n",
       " 'floatShares': 7447987752,\n",
       " 'beta': 0.91984,\n",
       " 'enterpriseValue': 1620237746176,\n",
       " 'priceHint': 2,\n",
       " 'threeYearAverageReturn': None,\n",
       " 'lastSplitDate': 1045526400,\n",
       " 'lastSplitFactor': '2:1',\n",
       " 'legalType': None,\n",
       " 'lastDividendDate': 1660694400,\n",
       " 'morningStarOverallRating': None,\n",
       " 'earningsQuarterlyGrowth': -0.144,\n",
       " 'priceToSalesTrailing12Months': 8.126777,\n",
       " 'dateShortInterest': 1665705600,\n",
       " 'pegRatio': 1.73,\n",
       " 'ytdReturn': None,\n",
       " 'forwardPE': 19.909172,\n",
       " 'lastCapGain': None,\n",
       " 'shortPercentOfFloat': 0.0050999997,\n",
       " 'sharesShortPriorMonth': 42967330,\n",
       " 'impliedSharesOutstanding': 0,\n",
       " 'category': None,\n",
       " 'fiveYearAverageReturn': None,\n",
       " 'previousClose': 214.25,\n",
       " 'regularMarketOpen': 217.55,\n",
       " 'twoHundredDayAverage': 270.81335,\n",
       " 'trailingAnnualDividendYield': 0.011855309,\n",
       " 'payoutRatio': 0.26700002,\n",
       " 'volume24Hr': None,\n",
       " 'regularMarketDayHigh': 221.58,\n",
       " 'navPrice': None,\n",
       " 'averageDailyVolume10Day': 39406050,\n",
       " 'regularMarketPreviousClose': 214.25,\n",
       " 'fiftyDayAverage': 242.428,\n",
       " 'trailingAnnualDividendRate': 2.54,\n",
       " 'open': 217.55,\n",
       " 'toCurrency': None,\n",
       " 'averageVolume10days': 39406050,\n",
       " 'expireDate': None,\n",
       " 'algorithm': None,\n",
       " 'dividendRate': 2.72,\n",
       " 'exDividendDate': 1668556800,\n",
       " 'circulatingSupply': None,\n",
       " 'startDate': None,\n",
       " 'regularMarketDayLow': 213.431,\n",
       " 'currency': 'USD',\n",
       " 'trailingPE': 23.061457,\n",
       " 'regularMarketVolume': 36789063,\n",
       " 'lastMarket': None,\n",
       " 'maxSupply': None,\n",
       " 'openInterest': None,\n",
       " 'marketCap': 1650345115648,\n",
       " 'volumeAllCurrencies': None,\n",
       " 'strikePrice': None,\n",
       " 'averageVolume': 27555060,\n",
       " 'dayLow': 213.431,\n",
       " 'ask': 221.34,\n",
       " 'askSize': 1300,\n",
       " 'volume': 36789063,\n",
       " 'fiftyTwoWeekHigh': 349.67,\n",
       " 'fromCurrency': None,\n",
       " 'fiveYearAvgDividendYield': 1.18,\n",
       " 'fiftyTwoWeekLow': 213.43,\n",
       " 'bid': 220.9,\n",
       " 'tradeable': False,\n",
       " 'dividendYield': 0.0127,\n",
       " 'bidSize': 1000,\n",
       " 'dayHigh': 221.58,\n",
       " 'coinMarketCapLink': None,\n",
       " 'regularMarketPrice': 221.39,\n",
       " 'preMarketPrice': None,\n",
       " 'logo_url': 'https://logo.clearbit.com/microsoft.com'}"
      ]
     },
     "execution_count": 94,
     "metadata": {},
     "output_type": "execute_result"
    }
   ],
   "source": [
    "yf.Ticker(\"MSFT\").info"
   ]
  },
  {
   "cell_type": "code",
   "execution_count": 52,
   "id": "0083e14f",
   "metadata": {},
   "outputs": [],
   "source": [
    "df = yf.Ticker(\"MSFT\").cashflow"
   ]
  },
  {
   "cell_type": "code",
   "execution_count": null,
   "id": "2952fe38",
   "metadata": {},
   "outputs": [],
   "source": []
  },
  {
   "cell_type": "code",
   "execution_count": 88,
   "id": "092feb3f",
   "metadata": {},
   "outputs": [
    {
     "data": {
      "text/plain": [
       "2022"
      ]
     },
     "execution_count": 88,
     "metadata": {},
     "output_type": "execute_result"
    }
   ],
   "source": [
    "df.columns[0].year"
   ]
  },
  {
   "cell_type": "code",
   "execution_count": 27,
   "id": "0eb895d2",
   "metadata": {},
   "outputs": [],
   "source": [
    "def grahams_calc(ticker_symbol, growth_rate):\n",
    "    stock = yf.Ticker(ticker_symbol)\n",
    "    EPS = stock.info['trailingEps']\n",
    "    PE_no_growth = 7\n",
    "    growth_rate = growth_rate #10 #stock growth rate %\n",
    "    ave_AAA_yield = 4.4 #%\n",
    "    curr_AAA_yield = 2.57 #(get online)\n",
    "    value = ( EPS * (PE_no_growth + growth_rate) * ave_AAA_yield ) /  curr_AAA_yield\n",
    "    \n",
    "    return value\n",
    "\n",
    "\n"
   ]
  },
  {
   "cell_type": "code",
   "execution_count": 143,
   "id": "8d3bc1bd",
   "metadata": {},
   "outputs": [
    {
     "data": {
      "text/plain": [
       "485.8661478599222"
      ]
     },
     "execution_count": 143,
     "metadata": {},
     "output_type": "execute_result"
    }
   ],
   "source": [
    "grahams_calc(\"LMT\", 6)"
   ]
  },
  {
   "cell_type": "code",
   "execution_count": 134,
   "id": "63838715",
   "metadata": {},
   "outputs": [],
   "source": [
    "def IVcalc(ticker_symbol, est_g_05, est_g_510, est_term_mult):\n",
    "    \n",
    "    curr_year = datetime.today().year\n",
    "    \n",
    "    #pull current ir\n",
    "    IR = 0.0400\n",
    "\n",
    "    stock = yf.Ticker(ticker_symbol)\n",
    "    \n",
    "    shares_outstanding = stock.info['sharesOutstanding']\n",
    "    \n",
    "    #Get cashflow from most recent year\n",
    "    stock_cf = stock.cashflow\n",
    "    \n",
    "    #index 0 gets us the most recent dates\n",
    "    year = stock_cf.columns[0].year\n",
    "    print(year)\n",
    "    cash_from_op = stock_cf.loc['Total Cash From Operating Activities'].iloc[0]\n",
    "    cap_ex = stock_cf.loc['Capital Expenditures'].iloc[0]\n",
    "    cash_flow = cash_from_op + cap_ex #cash from ops - capex (but is a + as -ve vals used in bal sheet)\n",
    "    if (cash_flow < 0):\n",
    "        print(\"Negative cash flow for current year, please take note. [\" + str(cash_flow) + \"]\")\n",
    "    \n",
    "    \n",
    "    estimated_growth = [est_g_05, est_g_510]\n",
    "    \n",
    "    terminal_multiple = est_term_mult\n",
    "    \n",
    "    #Estimate for next 10 years\n",
    "    est_cash_flows = []\n",
    "    for year in range(1,11):\n",
    "        choice = 0\n",
    "        if year > 5:\n",
    "            choice = 1\n",
    "        est_cf = cash_flow * ((1 + estimated_growth[choice])** year)\n",
    "        est_cash_flows.append(est_cf)\n",
    "    \n",
    "    \n",
    "    terminal_value = terminal_multiple * est_cash_flows[-2]\n",
    "    \n",
    "    present_val_cf = []\n",
    "    \n",
    "    #RFROR\n",
    "    #WACC #temp put 4.5%\n",
    "    discount_rate = 0.045\n",
    "    \n",
    "    for year in range(10):\n",
    "        net_pres = est_cash_flows[year] / ((1 + discount_rate) ** (year + 1))\n",
    "        present_val_cf.append(net_pres)\n",
    "    \n",
    "    NPV = sum(present_val_cf) + terminal_value\n",
    "    \n",
    "    IV = NPV / shares_outstanding\n",
    "    \n",
    "    \n",
    "    return IV"
   ]
  },
  {
   "cell_type": "code",
   "execution_count": 137,
   "id": "b6cd720b",
   "metadata": {},
   "outputs": [
    {
     "name": "stdout",
     "output_type": "stream",
     "text": [
      "2021\n"
     ]
    },
    {
     "data": {
      "text/plain": [
       "480.2928776616334"
      ]
     },
     "execution_count": 137,
     "metadata": {},
     "output_type": "execute_result"
    }
   ],
   "source": [
    "IVcalc(\"LMT\", 0.07,0.03, 5)"
   ]
  },
  {
   "cell_type": "code",
   "execution_count": 140,
   "id": "9f5c5a96",
   "metadata": {},
   "outputs": [],
   "source": [
    "def IVCalcAve(ticker_symbol,best_p, worst_p, ave_p, cases = [[0.2,0.1,15],[0.05,0.02,5],[0.1,0.05,10]]):\n",
    "    stock = yf.Ticker(ticker_symbol)\n",
    "    financial_currency = stock.info['financialCurrency']\n",
    "    \n",
    "    #If there is an input\n",
    "    best_case = cases[0]\n",
    "    worst_case = cases[1]\n",
    "    average_case = cases[2]\n",
    "    \n",
    "    #probabilities\n",
    "    probs = [best_p, worst_p, ave_p]\n",
    "    \n",
    "    cases = [best_case, worst_case, average_case]\n",
    "    print(cases)\n",
    "    expected_IV = 0\n",
    "    for i in range(len(cases)):\n",
    "        case = cases[i]\n",
    "        IV = IVcalc(ticker_symbol, case[0], case[1], case[2]) * probs[i]\n",
    "        expected_IV += IV\n",
    "    return ticker_symbol + \":\" + str(int(expected_IV)) + financial_currency\n",
    "    "
   ]
  },
  {
   "cell_type": "code",
   "execution_count": 141,
   "id": "77ff8002",
   "metadata": {},
   "outputs": [
    {
     "name": "stdout",
     "output_type": "stream",
     "text": [
      "[[0.08, 0.04, 5], [0.03, 0.01, 4], [0.06, 0.03, 5]]\n",
      "2021\n",
      "2021\n",
      "2021\n"
     ]
    },
    {
     "data": {
      "text/plain": [
       "'LMT:454USD'"
      ]
     },
     "execution_count": 141,
     "metadata": {},
     "output_type": "execute_result"
    }
   ],
   "source": [
    "IVCalcAve(\"LMT\", 0.2,0.3,0.5, [[0.08,0.04,5],[0.03,0.01,4],[0.06,0.03, 5]])"
   ]
  }
 ],
 "metadata": {
  "kernelspec": {
   "display_name": "Python 3 (ipykernel)",
   "language": "python",
   "name": "python3"
  },
  "language_info": {
   "codemirror_mode": {
    "name": "ipython",
    "version": 3
   },
   "file_extension": ".py",
   "mimetype": "text/x-python",
   "name": "python",
   "nbconvert_exporter": "python",
   "pygments_lexer": "ipython3",
   "version": "3.9.7"
  }
 },
 "nbformat": 4,
 "nbformat_minor": 5
}
